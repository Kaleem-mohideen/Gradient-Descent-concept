{
 "cells": [
  {
   "cell_type": "code",
   "execution_count": 1,
   "metadata": {},
   "outputs": [],
   "source": [
    "def step_gradient(points, learning_rate, m ):\n",
    "    M, n = points.shape\n",
    "    \n",
    "     #intializing all coefficients(m1,m2,m3,...) with 0\n",
    "    m_slope = np.zeros(n)\n",
    "    \n",
    "     #dividing features matrix(x1,x2,x3,...) and output matrix(y)\n",
    "    x1=points[: , 0:n-1]\n",
    "    y1=points[: , n-1]\n",
    "    \n",
    "     #inserting last column to features matrix with elements 1 i.e.,x`n+1\n",
    "    at_nth_column= n-1\n",
    "    x2=np.insert(x1, at_nth_column, 1, axis=1)\n",
    "    \n",
    "     #calculating slope\n",
    "    for i in range(M):\n",
    "        x = x2[i]\n",
    "        y = y1[i]\n",
    "        for j in range(n):\n",
    "            m_slope[j] += (-2/M) * (y - (m*x).sum() ) * x[j]\n",
    "    #updating coefficients(m1,m2,m3,....)\n",
    "    for i in range(n):\n",
    "        m[i] = ( m[i] - learning_rate * m_slope[i]) \n",
    "    return m"
   ]
  },
  {
   "cell_type": "code",
   "execution_count": 35,
   "metadata": {},
   "outputs": [],
   "source": [
    "def gd(points, learning_rate, num_iterations):\n",
    "    n = points.shape[1]  #assigning no.of columns\n",
    "    m=np.zeros((n,))\n",
    "    \n",
    "     #updating coefficients by num_iterations\n",
    "    for i in range(num_iterations):\n",
    "        m = step_gradient(points, learning_rate, m )\n",
    "        #print(i, \" Cost: \", cost(points, m))\n",
    "    return m"
   ]
  },
  {
   "cell_type": "code",
   "execution_count": 31,
   "metadata": {},
   "outputs": [],
   "source": [
    "def run():\n",
    "    data=np.genfromtxt('/home/mirkalim/Documents/Python/Practice/train data/gd_training_ccpp_x_y_train.csv',delimiter=',')\n",
    "    learning_rate = 0.00000000000001\n",
    "    num_iterations = 50\n",
    "    m = gd(data, learning_rate, num_iterations)\n",
    "    return m"
   ]
  },
  {
   "cell_type": "code",
   "execution_count": 6,
   "metadata": {},
   "outputs": [],
   "source": [
    "def cost(points, m):\n",
    "    n = points.shape[1] #assigning no.of columns\n",
    "    total_cost = 0      #initializing total_cost with 0\n",
    "    M = len(points)     #assigning no.of rows\n",
    "     \n",
    "     #dividing features matrix(x1,x2,x3,...) and output matrix(y)\n",
    "    x1=points[: , 0:n-1]\n",
    "    y1=points[: , n-1]\n",
    "    \n",
    "    #inserting last column to features matrix with elements 1 i.e.,x`n+1\n",
    "    at_nth_column= n-1\n",
    "    x2=np.insert(x1, at_nth_column, 1, axis=1)\n",
    "    \n",
    "    #calculating cost function\n",
    "    for i in range(M):\n",
    "        x = x2[i]\n",
    "        y = y1[i]\n",
    "        total_cost += (1/M)*((y - (m*x).sum())**2)\n",
    "    return total_cost"
   ]
  },
  {
   "cell_type": "code",
   "execution_count": 32,
   "metadata": {},
   "outputs": [
    {
     "name": "stdout",
     "output_type": "stream",
     "text": [
      "0  Cost:  206801.34430060047\n",
      "1  Cost:  206801.33574607366\n",
      "2  Cost:  206801.3271915472\n",
      "3  Cost:  206801.31863702144\n",
      "4  Cost:  206801.31008249588\n",
      "5  Cost:  206801.30152797012\n",
      "6  Cost:  206801.29297344538\n",
      "7  Cost:  206801.28441892003\n",
      "8  Cost:  206801.27586439523\n",
      "9  Cost:  206801.2673098713\n",
      "10  Cost:  206801.25875534746\n",
      "11  Cost:  206801.2502008248\n",
      "12  Cost:  206801.2416463012\n",
      "13  Cost:  206801.2330917787\n",
      "14  Cost:  206801.2245372559\n",
      "15  Cost:  206801.2159827353\n",
      "16  Cost:  206801.2074282128\n",
      "17  Cost:  206801.198873692\n",
      "18  Cost:  206801.19031917094\n",
      "19  Cost:  206801.18176464995\n",
      "20  Cost:  206801.17321012903\n",
      "21  Cost:  206801.1646556102\n",
      "22  Cost:  206801.15610108952\n",
      "23  Cost:  206801.14754657098\n",
      "24  Cost:  206801.1389920525\n",
      "25  Cost:  206801.13043753442\n",
      "26  Cost:  206801.12188301588\n",
      "27  Cost:  206801.11332849844\n",
      "28  Cost:  206801.10477398112\n",
      "29  Cost:  206801.09621946438\n",
      "30  Cost:  206801.0876649474\n",
      "31  Cost:  206801.07911043064\n",
      "32  Cost:  206801.07055591507\n",
      "33  Cost:  206801.06200139938\n",
      "34  Cost:  206801.053446884\n",
      "35  Cost:  206801.04489236913\n",
      "36  Cost:  206801.0363378551\n",
      "37  Cost:  206801.0277833407\n",
      "38  Cost:  206801.01922882622\n",
      "39  Cost:  206801.01067431344\n",
      "40  Cost:  206801.00211980057\n",
      "41  Cost:  206800.9935652878\n",
      "42  Cost:  206800.98501077507\n",
      "43  Cost:  206800.97645626284\n",
      "44  Cost:  206800.96790175178\n",
      "45  Cost:  206800.95934724138\n",
      "46  Cost:  206800.9507927292\n",
      "47  Cost:  206800.94223821835\n",
      "48  Cost:  206800.93368370866\n",
      "49  Cost:  206800.92512919861\n",
      "[8.79888419e-09 2.44802458e-08 4.60511324e-07 3.33972748e-08\n",
      " 4.54431063e-10]\n",
      "(5,)\n"
     ]
    }
   ],
   "source": [
    "import numpy as np\n",
    "a=run()\n",
    "print(a)\n",
    "print(a.shape)"
   ]
  },
  {
   "cell_type": "code",
   "execution_count": 36,
   "metadata": {},
   "outputs": [],
   "source": [
    "def predict(x1):\n",
    "    M = len(x1)  #assigning no.of rows\n",
    "    \n",
    "    #getting optimal coefficients(m1,m2,m3,..mn,c)\n",
    "    m1 = run()\n",
    "    \n",
    "    #separating coefficient(m1,m2,m3,...) and intercept(c)\n",
    "    n = len(m1)  \n",
    "    m = np.array(m1[0:n-1])\n",
    "    c = np.array(m1[n-1])\n",
    "    k=[]\n",
    "    \n",
    "    # Getting the predictions y=mx+c for input x\n",
    "    for i in range(M):\n",
    "        x = x1[i]\n",
    "        k.append((m*x).sum() + c)\n",
    "    return k"
   ]
  },
  {
   "cell_type": "code",
   "execution_count": 37,
   "metadata": {},
   "outputs": [
    {
     "name": "stdout",
     "output_type": "stream",
     "text": [
      "[0.00047278 0.00047012 0.00046782 ... 0.0004696  0.00047038 0.00047375]\n"
     ]
    }
   ],
   "source": [
    "data=np.genfromtxt(\"/home/mirkalim/Documents/Python/Practice/test data/gd_test_ccpp_x_test.csv\",delimiter=\",\")\n",
    "\n",
    "# predicting output(y)\n",
    "y_pred=np.array(predict(data))\n",
    "print(y_pred)"
   ]
  },
  {
   "cell_type": "code",
   "execution_count": 40,
   "metadata": {},
   "outputs": [
    {
     "name": "stdout",
     "output_type": "stream",
     "text": [
      "2392\n"
     ]
    }
   ],
   "source": [
    "y_pred2=np.around(y_pred, 5)\n",
    "print(len(y_pred2))"
   ]
  },
  {
   "cell_type": "code",
   "execution_count": 41,
   "metadata": {},
   "outputs": [],
   "source": [
    "np.savetxt(\"1_grad.csv\", y_pred2, delimiter=\",\")"
   ]
  }
 ],
 "metadata": {
  "kernelspec": {
   "display_name": "Python 3",
   "language": "python",
   "name": "python3"
  },
  "language_info": {
   "codemirror_mode": {
    "name": "ipython",
    "version": 3
   },
   "file_extension": ".py",
   "mimetype": "text/x-python",
   "name": "python",
   "nbconvert_exporter": "python",
   "pygments_lexer": "ipython3",
   "version": "3.7.6"
  }
 },
 "nbformat": 4,
 "nbformat_minor": 2
}
